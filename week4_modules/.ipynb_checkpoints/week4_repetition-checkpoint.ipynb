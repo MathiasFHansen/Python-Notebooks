{
 "cells": [
  {
   "cell_type": "code",
   "execution_count": 3,
   "metadata": {},
   "outputs": [
    {
     "ename": "ModuleNotFoundError",
     "evalue": "No module named 'numpy'",
     "output_type": "error",
     "traceback": [
      "\u001b[1;31m---------------------------------------------------------------------------\u001b[0m",
      "\u001b[1;31mModuleNotFoundError\u001b[0m                       Traceback (most recent call last)",
      "\u001b[1;32mc:\\Users\\didas\\4.Semester\\Python\\Docker\\docker_notebooks\\notebooks\\my_work\\week4_modules\\week4_repetition.ipynb Cell 1'\u001b[0m in \u001b[0;36m<cell line: 1>\u001b[1;34m()\u001b[0m\n\u001b[1;32m----> <a href='vscode-notebook-cell:/c%3A/Users/didas/4.Semester/Python/Docker/docker_notebooks/notebooks/my_work/week4_modules/week4_repetition.ipynb#ch0000000?line=0'>1</a>\u001b[0m \u001b[39mimport\u001b[39;00m \u001b[39mnumpy\u001b[39;00m \u001b[39mas\u001b[39;00m \u001b[39mnp\u001b[39;00m\n\u001b[0;32m      <a href='vscode-notebook-cell:/c%3A/Users/didas/4.Semester/Python/Docker/docker_notebooks/notebooks/my_work/week4_modules/week4_repetition.ipynb#ch0000000?line=1'>2</a>\u001b[0m \u001b[39mimport\u001b[39;00m \u001b[39mmatplotlib\u001b[39;00m\u001b[39m.\u001b[39;00m\u001b[39mpyplot\u001b[39;00m \u001b[39mas\u001b[39;00m \u001b[39mplt\u001b[39;00m\n\u001b[0;32m      <a href='vscode-notebook-cell:/c%3A/Users/didas/4.Semester/Python/Docker/docker_notebooks/notebooks/my_work/week4_modules/week4_repetition.ipynb#ch0000000?line=4'>5</a>\u001b[0m \u001b[39m# Exercise 1¶\u001b[39;00m\n\u001b[0;32m      <a href='vscode-notebook-cell:/c%3A/Users/didas/4.Semester/Python/Docker/docker_notebooks/notebooks/my_work/week4_modules/week4_repetition.ipynb#ch0000000?line=5'>6</a>\u001b[0m \u001b[39m# 1. Open the file './data/befkbhalderstatkode.csv'\u001b[39;00m\n",
      "\u001b[1;31mModuleNotFoundError\u001b[0m: No module named 'numpy'"
     ]
    }
   ],
   "source": [
    "import numpy as np\n",
    "import matplotlib.pyplot as plt\n",
    "\n",
    "\n",
    "# Exercise 1¶\n",
    "# 1. Open the file './data/befkbhalderstatkode.csv'\n",
    "stat_kode = 'befkbhalderstatkode.csv'\n",
    "\n",
    "\n",
    "# 2. Turn the csv file into a numpy ndarray with `np.genfromtxt(filename, delimiter=',', dtype=np.uint, skip_header=1)`\n",
    "dd = np.genfromtxt(stat_kode, delimiter=',', dtype=np.uint, skip_header=1)\n",
    "\n",
    "# 3. Using this data:\n",
    "# Find out how many people lived in each of the 11 areas in 2015\n",
    "neighb = {1: 'Indre By', 2: 'Østerbro', 3: 'Nørrebro', 4: 'Vesterbro/Kgs. Enghave', \n",
    "          5: 'Valby', 6: 'Vanløse', 7: 'Brønshøj-Husum', 8: 'Bispebjerg', 9: 'Amager Øst', \n",
    "          10: 'Amager Vest', 99: 'Udenfor'}\n",
    "\n",
    "#print (dd)\n",
    "#print(dd[mask])\n",
    "\n",
    "mask = (dd[:,0] == 2015) & (dd[:,3] == 5100)\n",
    "def number_of_people_per_neighbourhood(n, mask):\n",
    "    \n",
    "    all_people_in_given_n = dd[mask & (dd[:,1] == n)]\n",
    "    sum_of_people = all_people_in_given_n[:,4].sum()\n",
    "    return sum_of_people\n",
    "\n",
    "people_in_areas = np.array([number_of_people_per_neighbourhood(n     , mask) for n in neighb.keys()]) \n",
    "#print(people_in_areas)   \n",
    "sorted_array = np.sort(people_in_areas)\n",
    "# 4. Make a bar plot to show the size of each city area from the smallest to the largest in 2015\n",
    "#plt.bar(neighb.values, sorted_array)\n",
    "x = np.arrange(len(people_in_areas))\n",
    "y = \n",
    "plt.show()\n",
    "# 5. Create a boolean mask to find out how many people above 65 years lived in Copenhagen in 2015\n",
    "# 6. How many of those were from the other nordic countries (not dk). Hint: see notebook: \"04 Numpy\"\n",
    "# 7. Make a line plot showing the changes of number of people in vesterbro and østerbro from 1992 to 2015\n"
   ]
  }
 ],
 "metadata": {
  "interpreter": {
   "hash": "0980ed976048419fd8a57fda12ae764f0338482fb46ecfb931c363e77b8e8167"
  },
  "kernelspec": {
   "display_name": "Python 3",
   "language": "python",
   "name": "python3"
  },
  "language_info": {
   "codemirror_mode": {
    "name": "ipython",
    "version": 3
   },
   "file_extension": ".py",
   "mimetype": "text/x-python",
   "name": "python",
   "nbconvert_exporter": "python",
   "pygments_lexer": "ipython3",
   "version": "3.7.6"
  }
 },
 "nbformat": 4,
 "nbformat_minor": 2
}
