{
 "cells": [
  {
   "cell_type": "code",
   "execution_count": 5,
   "metadata": {},
   "outputs": [
    {
     "data": {
      "image/png": "[encoded data removed]",
      "text/plain": [
       "<Figure size 432x288 with 1 Axes>"
      ]
     },
     "metadata": {
      "needs_background": "light"
     },
     "output_type": "display_data"
    }
   ],
   "source": [
    "import numpy as np\n",
    "import matplotlib.pyplot as plt\n",
    "stat_kode = 'befkbhalderstatkode.csv'\n",
    "\n",
    "if __name__ == '__main__':\n",
    "    #AAR,BYDEL,ALDER,STATKODE,PERSONER\n",
    "\n",
    "    neighb = {1: 'Indre By', 2: 'Østerbro', 3: 'Nørrebro', 4: 'Vesterbro/Kgs. Enghave', \n",
    "       5: 'Valby', 6: 'Vanløse', 7: 'Brønshøj-Husum', 8: 'Bispebjerg', 9: 'Amager Øst', \n",
    "       10: 'Amager Vest', 99: 'Udenfor'}\n",
    "    dd = np.genfromtxt(stat_kode, delimiter=',', dtype=np.uint, skip_header=1)\n",
    "\n",
    "    mask = (dd[:,0] == 2015) & (dd[:,3] == 5100)\n",
    "\n",
    "    \n",
    "\n",
    "    def number_of_people_per_neighbourhood(n, mask):\n",
    "        all_people_in_given_n = dd[mask & (dd[:,1] == n)]\n",
    "        sum_of_people = all_people_in_given_n[:,4].sum() # index 4 is no of 'PERSONER'\n",
    "        return sum_of_people\n",
    "    \n",
    "    danish_neighbourhoods = np.array([number_of_people_per_neighbourhood(n, mask) for n in neighb.keys()])\n",
    "    #print(danish_neighbourhoods)\n",
    "    sorted_array = np.sort(danish_neighbourhoods)\n",
    "    plt.bar([\"99\",\"7\",\"6\",\"8\",\"1\",\"5\",\"9\",\"4\",\"10,2,3], sorted_array)\n",
    "    \n",
    "    \n",
    "    #2590 = 99, 34300 = 7, 35666 = 6, 42662 = 8, 44744 = 1, 44868 = 5, 47873 = 9, 51898 = 4, 55452 = 10, 65846 = 2, \n",
    "    # 66715 = 3\n",
    "    \n",
    "    #plt.bar(list(set(dd[:,1])), list(dd[mask][:,4]))\n",
    "    #plt.axis([1,10,300,600])\n",
    "\n",
    "        "
   ]
  }
 ],
 "metadata": {
  "interpreter": {
   "hash": "0980ed976048419fd8a57fda12ae764f0338482fb46ecfb931c363e77b8e8167"
  },
  "kernelspec": {
   "display_name": "Python 3",
   "language": "python",
   "name": "python3"
  },
  "language_info": {
   "codemirror_mode": {
    "name": "ipython",
    "version": 3
   },
   "file_extension": ".py",
   "mimetype": "text/x-python",
   "name": "python",
   "nbconvert_exporter": "python",
   "pygments_lexer": "ipython3",
   "version": "3.7.6"
  }
 },
 "nbformat": 4,
 "nbformat_minor": 2
}
