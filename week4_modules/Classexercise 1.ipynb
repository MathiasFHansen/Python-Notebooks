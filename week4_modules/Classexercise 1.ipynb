{
 "cells": [
  {
   "cell_type": "code",
   "execution_count": 27,
   "metadata": {},
   "outputs": [
    {
     "name": "stdout",
     "output_type": "stream",
     "text": [
      "red: [11 12 13] \n",
      "blue: [14 24] \n",
      "green:\n",
      " [12 17 22] \n",
      "teal: [[11 16 21 26]\n",
      " [13 18 23 28]] \n",
      "yellow 10\n"
     ]
    }
   ],
   "source": [
    "import numpy as np\n",
    "a = np.arange(10, 30).reshape(4, 5)\n",
    "red    = a[0, 1:4]  # get one-dim. subarray of row 0, start:1 (pos=2) end:4 (not included, pos=4)\n",
    "yellow = a[0,0]\n",
    "blue   = a[0::2,4]  # get one-dim. subarrays (index 1,2,3) of column 0\n",
    "green  = a[0:3,2] # get a two-dim. subarray of every second element by row and column\n",
    "teal = a[:,1::2].T \n",
    "\n",
    "print('red:',red,'\\nblue:',blue,'\\ngreen:\\n',green,'\\nteal:',teal, '\\nyellow',yellow)"
   ]
  },
  {
   "cell_type": "code",
   "execution_count": 26,
   "metadata": {},
   "outputs": [
    {
     "name": "stdout",
     "output_type": "stream",
     "text": [
      "red: [12 13 14] blue: [ 3 12 21] yellow: [2 5 8]\n"
     ]
    }
   ],
   "source": [
    "import numpy as np\n",
    "\n",
    "a = np.arange(0, 27).reshape((3, 3, 3))\n",
    "\n",
    "red = a[1,1, 0:3]\n",
    "blue = a[0:3,1,0]\n",
    "yellow = a[0,0:3,2]\n",
    "\n",
    "print('red:',red, 'blue:',blue, 'yellow:',yellow)"
   ]
  },
  {
   "cell_type": "code",
   "execution_count": 73,
   "metadata": {},
   "outputs": [
    {
     "data": {
      "text/plain": [
       "array([  2,   4,   6,   8,  10,  12,  14,  16,  18,  20,  22,  24,  26,\n",
       "        28,  30,  32,  34,  36,  38,  40,  42,  44,  46,  48,  50,  52,\n",
       "        54,  56,  58,  60,  62,  64,  66,  68,  70,  72,  74,  76,  78,\n",
       "        80,  82,  84,  86,  88,  90,  92,  94,  96,  98, 100])"
      ]
     },
     "execution_count": 73,
     "metadata": {},
     "output_type": "execute_result"
    }
   ],
   "source": [
    "import numpy as np\n",
    "import matplotlib.pyplot as plt\n",
    "data = np.arange(1,101).reshape(10,10)\n",
    "data[ data % 2 == 0 ]\n"
   ]
  },
  {
   "cell_type": "code",
   "execution_count": 74,
   "metadata": {},
   "outputs": [
    {
     "ename": "FileNotFoundError",
     "evalue": "[Errno 2] No such file or directory: 'data/befkbh_stat_code.json'",
     "output_type": "error",
     "traceback": [
      "\u001b[0;31m---------------------------------------------------------------------------\u001b[0m",
      "\u001b[0;31mFileNotFoundError\u001b[0m                         Traceback (most recent call last)",
      "\u001b[0;32m<ipython-input-74-10a50b366fdc>\u001b[0m in \u001b[0;36m<module>\u001b[0;34m\u001b[0m\n\u001b[1;32m      1\u001b[0m \u001b[0;31m#1 load the csv file: befkbhalderstatkode.csv into a numpy ndarray\u001b[0m\u001b[0;34m\u001b[0m\u001b[0;34m\u001b[0m\u001b[0;34m\u001b[0m\u001b[0m\n\u001b[1;32m      2\u001b[0m \u001b[0;32mimport\u001b[0m \u001b[0mjson\u001b[0m\u001b[0;34m\u001b[0m\u001b[0;34m\u001b[0m\u001b[0m\n\u001b[0;32m----> 3\u001b[0;31m \u001b[0;32mwith\u001b[0m \u001b[0mopen\u001b[0m\u001b[0;34m(\u001b[0m\u001b[0;34m'data/befkbh_stat_code.json'\u001b[0m\u001b[0;34m,\u001b[0m\u001b[0;34m'w'\u001b[0m\u001b[0;34m)\u001b[0m \u001b[0;32mas\u001b[0m \u001b[0mf\u001b[0m\u001b[0;34m:\u001b[0m\u001b[0;34m\u001b[0m\u001b[0;34m\u001b[0m\u001b[0m\n\u001b[0m\u001b[1;32m      4\u001b[0m     \u001b[0mf\u001b[0m\u001b[0;34m.\u001b[0m\u001b[0mwrite\u001b[0m\u001b[0;34m(\u001b[0m\u001b[0mjson\u001b[0m\u001b[0;34m.\u001b[0m\u001b[0mdumps\u001b[0m\u001b[0;34m(\u001b[0m\u001b[0mcountry_codes\u001b[0m\u001b[0;34m)\u001b[0m\u001b[0;34m)\u001b[0m\u001b[0;34m\u001b[0m\u001b[0;34m\u001b[0m\u001b[0m\n\u001b[1;32m      5\u001b[0m \u001b[0;31m#2 How many german children of 0 years were there in Copenhagen in 2015?\u001b[0m\u001b[0;34m\u001b[0m\u001b[0;34m\u001b[0m\u001b[0;34m\u001b[0m\u001b[0m\n",
      "\u001b[0;31mFileNotFoundError\u001b[0m: [Errno 2] No such file or directory: 'data/befkbh_stat_code.json'"
     ]
    }
   ],
   "source": [
    "#1 load the csv file: befkbhalderstatkode.csv into a numpy ndarray\n",
    "import json\n",
    "with open('data/befkbh_stat_code.json','w') as f:\n",
    "    f.write(json.dumps(country_codes))\n",
    "country_codes = {0: 'Uoplyst (1)', 5001: 'Uoplyst (2)', 5100: 'Danmark', 5101: 'Grønland', \n",
    "                 5102: 'Udlandet uoplyst', 5103: 'Statsløs', 5104: 'Finland', \n",
    "                 5105: 'Island, ligeret dansk', 5106: 'Island', 5107: 'Liechtenstein', \n",
    "                 5108: 'Luxembourg', 5109: 'Monaco', 5110: 'Norge', 5114: 'Europa uoplyst', \n",
    "                 5115: 'Kongelig', 5120: 'Sverige', 5122: 'Albanien', 5124: 'Andorra', \n",
    "                 5126: 'Belgien', 5128: 'Bulgarien', 5129: 'Tjekkoslovakiet', \n",
    "                 5130: 'Frankrig', 5134: 'Grækenland', 5140: 'Nederlandene', \n",
    "                 5142: 'Irland', 5150: 'Italien', 5151: 'Serbien og Montenegro', \n",
    "                 5152: 'Jugoslavien', 5153: 'Malta', 5154: 'Polen', 5156: 'Portugal', \n",
    "                 5158: 'Rumænien', 5159: 'San Marino', 5160: 'Schweiz', \n",
    "                 5162: 'Sovjetunionen', 5164: 'Spanien', 5170: 'Storbritannien', \n",
    "                 5172: 'Tyrkiet', 5174: 'Ungarn', 5176: 'Vatikanstaten', 5180: 'Tyskland', \n",
    "                 5182: 'Østrig', 5199: 'Europa uoplyst', 5202: 'Algeriet', 5204: 'Angola', \n",
    "                 5207: 'Botswana', 5213: 'Burundi', 5214: 'Etiopien', 5215: 'Comorerne', \n",
    "                 5216: 'Eritrea', 5222: 'Gambia', 5228: 'Ghana', 5230: 'Ækvatorialguinea', \n",
    "                 5231: 'Guinea-Bissau', 5232: 'Guinea', 5233: 'Kap Verde', 5234: 'Kenya', \n",
    "                 5235: 'Lesotho', 5236: 'Liberia', 5238: 'Libyen', 5240: 'Mozambique', \n",
    "                 5242: 'Madagaskar', 5243: 'Mali', 5244: 'Marokko', 5245: 'Mauritius', \n",
    "                 5246: 'Nigeria', 5247: 'Namibia', 5248: 'Marshalløerne', \n",
    "                 5255: 'Sierra Leone', 5258: 'Sudan', 5259: 'Swaziland', 5260: 'Sydsudan', \n",
    "                 5262: 'Sydafrika', 5266: 'Tanzania', 5268: 'Tunesien', 5269: 'Uganda', \n",
    "                 5272: 'Egypten', 5273: 'Tuvalu', 5274: 'Kiribati', 5275: 'Vanuatu', \n",
    "                 5276: 'Centralafrikanske Republik', 5277: 'Cameroun', \n",
    "                 5278: 'Congo, Demokratiske Republik', 5279: 'Congo, Republikken', \n",
    "                 5281: 'Benin', 5282: 'Elfenbenskysten', 5283: 'Gabon', 5284: 'Mauretanien', \n",
    "                 5285: 'Niger', 5287: 'Rwanda', 5288: 'Senegal', 5289: 'Somalia', \n",
    "                 5292: 'Tchad', 5293: 'Togo', 5294: 'Burkina Faso', 5295: 'Zimbabwe', \n",
    "                 5296: 'Zambia', 5297: 'Malawi', 5298: 'Seychellerne', \n",
    "                 5299: 'Afrika uoplyst', 5302: 'Argentina', 5303: 'Bahamas', \n",
    "                 5304: 'Bolivia', 5305: 'Barbados', 5306: 'Brasilien', 5308: 'Guyana', \n",
    "                 5309: 'Antigua og Barbuda', 5310: 'Nauru', \n",
    "                 5311: 'Skt. Vincent og Grenadinerne', 5314: 'Canada', 5316: 'Chile', \n",
    "                 5318: 'Colombia', 5319: 'Syd- og Mellemamerika uoplyst', \n",
    "                 5322: 'Costa Rica', 5324: 'Cuba', 5326: 'Dominikanske Republik', \n",
    "                 5328: 'Ecuador', 5338: 'Guatemala', 5339: 'Grenada', 5342: 'Haiti', \n",
    "                 5344: 'Surinam', 5345: 'Dominica', 5347: 'Skt. Lucia', 5348: 'Honduras', \n",
    "                 5352: 'Jamaica', 5354: 'Mexico', 5356: 'Nicaragua', 5358: 'Panama', \n",
    "                 5364: 'Paraguay', 5366: 'Peru', 5372: 'El Salvador', \n",
    "                 5374: 'Trinidad og Tobago', 5376: 'Uruguay', 5390: 'USA', \n",
    "                 5392: 'Venezuela', 5395: 'Vestindiske Øer', 5397: 'Nordamerika uoplyst', \n",
    "                 5398: 'Syd- og Mellemamerika uoplyst', 5402: 'Yemen', \n",
    "                 5403: 'Forenede Arabiske Emirater', 5404: 'Afghanistan', 5406: 'Bahrain', \n",
    "                 5408: 'Bhutan', 5410: 'Bangladesh', 5412: 'Brunei', 5414: 'Myanmar', \n",
    "                 5416: 'Cambodja', 5418: 'Sri Lanka', 5422: 'Cypern', 5424: 'Taiwan', \n",
    "                 5432: 'Indien', 5434: 'Indonesien', 5435: 'Østtimor', 5436: 'Irak', \n",
    "                 5438: 'Iran', 5442: 'Israel', 5444: 'Japan', 5446: 'Jordan', 5448: 'Kina', \n",
    "                 5452: 'Kuwait', 5454: 'Laos', 5456: 'Libanon', 5457: 'Maldiverne', \n",
    "                 5458: 'Malaysia', 5459: 'Mongoliet', 5462: 'Oman', 5464: 'Nepal', \n",
    "                 5466: 'Nordkorea', 5468: 'Vietnam (1)', 5471: 'Asien uoplyst', \n",
    "                 5472: 'Pakistan', 5474: 'Filippinerne', 5478: 'Saudi-Arabien', \n",
    "                 5482: 'Singapore', 5484: 'Sydkorea', 5486: 'Syrien', \n",
    "                 5487: 'Mellemøsten uoplyst', 5488: 'Vietnam (2)', 5492: 'Thailand', \n",
    "                 5496: 'Qatar', 5499: 'Asien uoplyst', 5502: 'Australien', 5505: 'Tonga', \n",
    "                 5508: 'Fiji', 5514: 'New Zealand', 5522: 'Samoa', 5525: 'Djibouti', \n",
    "                 5526: 'Belize', 5534: 'Papua Ny Guinea', 5599: 'Øer i Stillehavet', \n",
    "                 5607: 'Estland', 5609: 'Letland', 5611: 'Litauen', \n",
    "                 5621: 'Sao Tome og Principe', 5623: 'Salomonøerne', \n",
    "                 5625: 'Skt. Kitts og Nevis', 5700: 'Rusland', 5704: 'Ukraine', \n",
    "                 5706: 'Hviderusland', 5708: 'Armenien', 5710: 'Aserbajdsjan', \n",
    "                 5712: 'Moldova', 5714: 'Usbekistan', 5716: 'Kasakhstan', \n",
    "                 5718: 'Turkmenistan', 5720: 'Kirgisistan', 5722: 'Tadsjikistan', \n",
    "                 5724: 'Georgien', 5750: 'Kroatien', 5752: 'Slovenien', \n",
    "                 5754: 'Bosnien-Hercegovina', 5756: 'Makedonien', 5757: 'Serbien', \n",
    "                 5758: 'Jugoslavien, Forbundsrepublikken', 5759: 'Montenegro', \n",
    "                 5761: 'Kosovo', 5776: 'Tjekkiet', 5778: 'Slovakiet', 5779: 'Cookøerne', \n",
    "                 5800: 'Land ukendt (2)', 5901: 'Færøerne uoplyst', 5902: 'Færøerne', \n",
    "                 5999: 'Land ukendt (1)'}\n",
    "#2 How many german children of 0 years were there in Copenhagen in 2015?\n",
    "print(country_codes)\n",
    "#3 create a function that can take any combination of the 4 parameters:AAR,BYDEL,ALDER,STATKODE and return population data\n",
    "#4 create a new function like previous so that it can sum values for all ages if age is not provided to the function\n",
    "#5 further add functionality to sum values if citizenship or area was not provided to function.\n",
    "#6 create a new function that can also give average values for each year if year whas not provided.\n",
    "#7 create a function, that given year and nationality can return which area had the most of these nationals by that year. Test it by finding out which area had the most Moroccan people in both 1992 and 2015\n",
    "#8 Find the Area(s) where fewest foreingers lived in Copenhagen in 1992 and 2015 respectively\n",
    "#9 Find out what age most French people have in 2015"
   ]
  }
 ],
 "metadata": {
  "kernelspec": {
   "display_name": "Python 3",
   "language": "python",
   "name": "python3"
  },
  "language_info": {
   "codemirror_mode": {
    "name": "ipython",
    "version": 3
   },
   "file_extension": ".py",
   "mimetype": "text/x-python",
   "name": "python",
   "nbconvert_exporter": "python",
   "pygments_lexer": "ipython3",
   "version": "3.7.6"
  }
 },
 "nbformat": 4,
 "nbformat_minor": 4
}
