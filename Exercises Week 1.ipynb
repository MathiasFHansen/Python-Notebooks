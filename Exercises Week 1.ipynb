{
 "cells": [
  {
   "cell_type": "code",
   "execution_count": 6,
   "metadata": {},
   "outputs": [
    {
     "name": "stdout",
     "output_type": "stream",
     "text": [
      "['Henrik', 'Mathias', 'Thias', 'Jens', 'Hans', 'Tobias', 'Helga', 'Kurt']\n",
      "['Henrik', 'Hans', 'Helga']\n"
     ]
    }
   ],
   "source": [
    "#Iterate a list of names to return a list of the names starting with H\n",
    "new_list = [\"Henrik\",\"Mathias\",\"Thias\",\"Jens\",\"Hans\",\"Tobias\",\"Helga\",\"Kurt\"]\n",
    "print(new_list)\n",
    "my_comp = [element for element in new_list if element[0]=='H']\n",
    "\n",
    "print(my_comp)\n",
    "\n"
   ]
  },
  {
   "cell_type": "code",
   "execution_count": 3,
   "metadata": {},
   "outputs": [
    {
     "name": "stdout",
     "output_type": "stream",
     "text": [
      "[0, 1, 8, 27, 64, 125, 216, 343, 512, 729, 1000, 1331, 1728, 2197, 2744, 3375, 4096, 4913, 5832, 6859, 8000, 9261, 10648, 12167, 13824, 15625, 17576, 19683, 21952, 24389, 27000, 29791, 32768, 35937, 39304, 42875, 46656, 50653, 54872, 59319, 64000, 68921, 74088, 79507, 85184, 91125, 97336, 103823, 110592, 117649, 125000, 132651, 140608, 148877, 157464, 166375, 175616, 185193, 195112, 205379, 216000, 226981, 238328, 250047, 262144, 274625, 287496, 300763, 314432, 328509, 343000, 357911, 373248, 389017, 405224, 421875, 438976, 456533, 474552, 493039, 512000, 531441, 551368, 571787, 592704, 614125, 636056, 658503, 681472, 704969, 729000, 753571, 778688, 804357, 830584, 857375, 884736, 912673, 941192, 970299, 1000000]\n"
     ]
    }
   ],
   "source": [
    "#In one line create a list of the numbers 1-100 to the power of 3\n",
    "new_list = [x**3 for x in range(101)]\n",
    "print(new_list)\n"
   ]
  },
  {
   "cell_type": "code",
   "execution_count": 2,
   "metadata": {
    "scrolled": true
   },
   "outputs": [
    {
     "data": {
      "text/plain": [
       "[(6, 'Henrik'),\n",
       " (7, 'Mathias'),\n",
       " (5, 'Thias'),\n",
       " (4, 'Jens'),\n",
       " (4, 'Hans'),\n",
       " (6, 'Tobias'),\n",
       " (5, 'Helga'),\n",
       " (4, 'Kurt')]"
      ]
     },
     "execution_count": 2,
     "metadata": {},
     "output_type": "execute_result"
    }
   ],
   "source": [
    "new_list = [\"Henrik\",\"Mathias\",\"Thias\",\"Jens\",\"Hans\",\"Tobias\",\"Helga\",\"Kurt\"]\n",
    "\n",
    "def func_(lis):\n",
    "    \n",
    "    lst = [] # Don't use 'list' as a name; it overshadows the built-in\n",
    "    for h in lis:\n",
    "        lst.append((len(h), h))\n",
    "        \n",
    "    return lst\n",
    "\n",
    "func_(new_list)"
   ]
  },
  {
   "cell_type": "code",
   "execution_count": 7,
   "metadata": {},
   "outputs": [
    {
     "name": "stdout",
     "output_type": "stream",
     "text": [
      "['1', '2', '3', '2']\n"
     ]
    }
   ],
   "source": [
    "str = \"jeg har 1 øl og drukket den på 23 sekunder over 2 dage\"\n",
    "   \n",
    "numeric = [x for x in str if x.isdigit()]\n",
    "    \n",
    "print(numeric)\n",
    "\n"
   ]
  },
  {
   "cell_type": "code",
   "execution_count": 8,
   "metadata": {},
   "outputs": [
    {
     "name": "stdout",
     "output_type": "stream",
     "text": [
      "[(1, 1), (1, 2), (1, 3), (1, 4), (1, 5), (1, 6), (2, 1), (2, 2), (2, 3), (2, 4), (2, 5), (2, 6), (3, 1), (3, 2), (3, 3), (3, 4), (3, 5), (3, 6), (4, 1), (4, 2), (4, 3), (4, 4), (4, 5), (4, 6), (5, 1), (5, 2), (5, 3), (5, 4), (5, 5), (5, 6), (6, 1), (6, 2), (6, 3), (6, 4), (6, 5), (6, 6)]\n"
     ]
    }
   ],
   "source": [
    "#Using only a list comprehension wrapped in set() get all possible combination from throwing 2 dice \n",
    "#(hint use 2 for loops in a single list comprehension)\n",
    "dice = set([(x,i) for x in range(1,7) for i in range(1,7)])\n",
    "\n",
    "print(sorted(dice))\n"
   ]
  },
  {
   "cell_type": "code",
   "execution_count": 9,
   "metadata": {},
   "outputs": [
    {
     "name": "stdout",
     "output_type": "stream",
     "text": [
      "{'Henrik': 6, 'Mathias': 7, 'Thias': 5, 'Jens': 4, 'Hans': 4, 'Tobias': 6, 'Helga': 5, 'Kurt': 4}\n"
     ]
    }
   ],
   "source": [
    "#Iterate a list of names and create a dictionary where key is the name and value is the length of the name\n",
    "new_list = [\"Henrik\",\"Mathias\",\"Thias\",\"Jens\",\"Hans\",\"Tobias\",\"Helga\",\"Kurt\"]\n",
    "\n",
    "new_dct = {name: len(name) for name in new_list}\n",
    "\n",
    "print(new_dct)\n"
   ]
  }
 ],
 "metadata": {
  "kernelspec": {
   "display_name": "Python 3",
   "language": "python",
   "name": "python3"
  },
  "language_info": {
   "codemirror_mode": {
    "name": "ipython",
    "version": 3
   },
   "file_extension": ".py",
   "mimetype": "text/x-python",
   "name": "python",
   "nbconvert_exporter": "python",
   "pygments_lexer": "ipython3",
   "version": "3.7.6"
  }
 },
 "nbformat": 4,
 "nbformat_minor": 4
}
