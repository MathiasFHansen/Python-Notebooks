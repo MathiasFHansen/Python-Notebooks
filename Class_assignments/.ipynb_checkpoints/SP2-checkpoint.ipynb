{
 "cells": [
  {
   "cell_type": "code",
   "execution_count": null,
   "metadata": {},
   "outputs": [],
   "source": [
    "# \"MOBILOS\n",
    "\n",
    "# 1. Webscrape mobiltelefonernes navne og priser fra Komplett.dk\n",
    "# https://www.komplett.dk/category/21064/mobil/mobiltelefoner\n",
    "\n",
    "# 2. Plot gennemsnitpriserne på Samsung og Iphone i et bar-graf eller linjediagram\n",
    "\n",
    "# 3. Webscrape mobiltelefonernes navne og priser fra Telia.dk\n",
    "# https://www.telia.dk/privat/webshop/mobiler/?page=4\n",
    "\n",
    "# 3.a Sammenlign mobilernes priser fra begge butikker og plot dem.\""
   ]
  },
  {
   "cell_type": "code",
   "execution_count": null,
   "metadata": {},
   "outputs": [],
   "source": [
    "from selenium import webdriver\n",
    "from selenium.webdriver.common.keys import Keys\n",
    "from selenium.webdriver.firefox.options import Options\n",
    "from selenium import webdriver\n",
    "from selenium.webdriver.common.by import By\n",
    "from selenium.webdriver.support.ui import WebDriverWait\n",
    "from selenium.webdriver.support import expected_conditions as EC\n",
    "\n",
    "import bs4\n",
    "import json\n",
    "\n",
    "url = 'https://www.komplett.dk/category/21064/mobil/mobiltelefoner'\n",
    "def udemy_interaction():\n",
    "    profile = webdriver.FirefoxProfile()\n",
    "    profile.set_preference(\"general.useragent.override\", \"Mozilla/5.0 (X11; Ubuntu; Linux x86_64; rv:81.0) Gecko/20100101 Firefox/81.0\")\n",
    "    \n",
    "    # headless is needed here because we do not have a GUI version of firefox\n",
    "    options = Options()\n",
    "    options.headless = True\n",
    "    # driver = webdriver.Firefox(options=options, executable_path=r'/tmp/geckodriver')\n",
    "    browser = webdriver.Firefox(options=options)\n",
    "    \n",
    "    # browser = webdriver.Firefox()\n",
    "    browser.get(url)\n",
    "    browser.implicitly_wait(2)\n",
    "    \n",
    "    edu_buttons = browser.find_elements_by_css_selector('div.tile.tile--small.small-12.medium-12.large-6.columns')\n",
    "    edu_buttons = browser.find_elements_by_css_selector('p.tile__link.tile__link--small a.icon-arrow-after')\n",
    "    educations = [b.text for b in edu_buttons]\n",
    "    return educations, browser.page_source"
   ]
  },
  {
   "cell_type": "code",
   "execution_count": 2,
   "metadata": {},
   "outputs": [
    {
     "ename": "ModuleNotFoundError",
     "evalue": "No module named 'urllib2'",
     "output_type": "error",
     "traceback": [
      "\u001b[0;31m---------------------------------------------------------------------------\u001b[0m",
      "\u001b[0;31mModuleNotFoundError\u001b[0m                       Traceback (most recent call last)",
      "\u001b[0;32m<ipython-input-2-ef242ea66bee>\u001b[0m in \u001b[0;36m<module>\u001b[0;34m\u001b[0m\n\u001b[1;32m      2\u001b[0m \u001b[0;32mfrom\u001b[0m \u001b[0mre\u001b[0m \u001b[0;32mimport\u001b[0m \u001b[0msub\u001b[0m\u001b[0;34m\u001b[0m\u001b[0;34m\u001b[0m\u001b[0m\n\u001b[1;32m      3\u001b[0m \u001b[0;32mimport\u001b[0m \u001b[0mbs4\u001b[0m \u001b[0;32mas\u001b[0m \u001b[0mbeautifulsoup\u001b[0m\u001b[0;34m\u001b[0m\u001b[0;34m\u001b[0m\u001b[0m\n\u001b[0;32m----> 4\u001b[0;31m \u001b[0;32mfrom\u001b[0m \u001b[0murllib2\u001b[0m \u001b[0;32mimport\u001b[0m \u001b[0murlopen\u001b[0m\u001b[0;34m\u001b[0m\u001b[0;34m\u001b[0m\u001b[0m\n\u001b[0m\u001b[1;32m      5\u001b[0m \u001b[0murlpage\u001b[0m\u001b[0;34m=\u001b[0m\u001b[0murlopen\u001b[0m\u001b[0;34m(\u001b[0m\u001b[0;34m\"https://www.komplett.dk/category/21064/mobil/mobiltelefoner\"\u001b[0m\u001b[0;34m)\u001b[0m\u001b[0;34m.\u001b[0m\u001b[0mread\u001b[0m\u001b[0;34m(\u001b[0m\u001b[0;34m)\u001b[0m\u001b[0;34m\u001b[0m\u001b[0;34m\u001b[0m\u001b[0m\n\u001b[1;32m      6\u001b[0m \u001b[0mbswebpage\u001b[0m\u001b[0;34m=\u001b[0m\u001b[0mBeautifulSoup\u001b[0m\u001b[0;34m(\u001b[0m\u001b[0murlpage\u001b[0m\u001b[0;34m)\u001b[0m\u001b[0;34m\u001b[0m\u001b[0;34m\u001b[0m\u001b[0m\n",
      "\u001b[0;31mModuleNotFoundError\u001b[0m: No module named 'urllib2'"
     ]
    }
   ],
   "source": [
    "from __future__ import print_function\n",
    "from re import sub\n",
    "import bs4 as beautifulsoup\n",
    "from urllib2 import urlopen\n",
    "urlpage=urlopen(\"https://www.komplett.dk/category/21064/mobil/mobiltelefoner\").read()\n",
    "bswebpage=BeautifulSoup(urlpage)\n",
    "results=bswebpage.findAll(\"div\",{'data-bind':\"ifnot: lazyResults\"})\n",
    "print (results)\n",
    "#for result in results:\n",
    "    #print(\"\\nQuotes\\n\")\n",
    "    #print(sub(\"&ldquo;|.&rdquo;\",\"\",\"\".join(result.contents[0:1]).strip()))"
   ]
  }
 ],
 "metadata": {
  "interpreter": {
   "hash": "0980ed976048419fd8a57fda12ae764f0338482fb46ecfb931c363e77b8e8167"
  },
  "kernelspec": {
   "display_name": "Python 3",
   "language": "python",
   "name": "python3"
  },
  "language_info": {
   "codemirror_mode": {
    "name": "ipython",
    "version": 3
   },
   "file_extension": ".py",
   "mimetype": "text/x-python",
   "name": "python",
   "nbconvert_exporter": "python",
   "pygments_lexer": "ipython3",
   "version": "3.7.6"
  }
 },
 "nbformat": 4,
 "nbformat_minor": 2
}
