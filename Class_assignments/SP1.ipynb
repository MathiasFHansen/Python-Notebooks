{
 "cells": [
  {
   "cell_type": "code",
   "execution_count": 2,
   "metadata": {},
   "outputs": [
    {
     "name": "stdout",
     "output_type": "stream",
     "text": [
      "1     2.797501e+09\n",
      "0     2.069522e+09\n",
      "4     2.048360e+09\n",
      "11    1.662899e+09\n",
      "8     1.518816e+09\n",
      "17    1.450027e+09\n",
      "20    1.402810e+09\n",
      "3     1.347598e+09\n",
      "9     1.332699e+09\n",
      "39    1.281508e+09\n",
      "Name: World Sales (in $), dtype: float64\n"
     ]
    }
   ],
   "source": [
    "import numpy as np\n",
    "import pandas as pd\n",
    "\n",
    "\n",
    "#1 Find the top 10 highest grossing Disney movies by world sales\n",
    "data = pd.read_csv(\"Highest Holywood Grossing Movies.csv\")\n",
    "\n",
    "ws = data['World Sales (in $)'].where(data['Distributor']=='Walt Disney Studios Motion Pictures')\n",
    "\n",
    "#print(ws)\n",
    "top_10 = ws.sort_values(ascending=False)\n",
    "print(top_10[:10])\n",
    "\n",
    "#Mangler at få navne på film med, men ID er der."
   ]
  },
  {
   "cell_type": "code",
   "execution_count": 4,
   "metadata": {},
   "outputs": [
    {
     "data": {
      "image/png": "[encoded data removed]",
      "text/plain": [
       "<Figure size 432x288 with 1 Axes>"
      ]
     },
     "metadata": {},
     "output_type": "display_data"
    }
   ],
   "source": [
    "import matplotlib.pyplot as plt\n",
    "import numpy as np\n",
    "import pandas as pd\n",
    "#2. Create a pie chart that shows the distribution of Licenses (PG, R, M and so on)\n",
    "data = pd.read_csv(\"Highest Holywood Grossing Movies.csv\")\n",
    "#license = data['License']\n",
    "#lc = data.groupby('License').count()\n",
    "\n",
    "data2 = {'G': 14, 'PG': 173, 'PG-13': 363, 'R': 194}\n",
    "explode = (0, 0, 0, 0) # offset second slice\n",
    "fig1, ax1 = plt.subplots() # first returned is the containing figure (fig1), then the subplot Axe object(s) (ax1)\n",
    "ax1.pie(data2.values(), labels=data2.keys(), explode=explode, autopct=lambda p:'{:.2f}%({:.0f})'.format(p,(p/100)*sum(data2.values())), \n",
    "        #autopct=make_autopct(data.values()), \n",
    "        #autopct='%.1f', \n",
    "        # autopct= a format string like '%1.2f%%' for showing pct sign and 2 decimals\n",
    "        shadow=True, startangle=90)\n",
    "ax1.set_aspect('equal')\n",
    "ax1.legend(data2.keys(), loc='upper right') # use instead of labels in ax1.pie(...)\n",
    "#ax1.axis('equal')  \n",
    "#plt.tight_layout()\n",
    "plt.show()\n",
    "\n",
    "#Vi kunne ikke trække ID ud af vores lc, så vi endte med at hardcode dataen vi trak ud."
   ]
  },
  {
   "cell_type": "code",
   "execution_count": 6,
   "metadata": {},
   "outputs": [
    {
     "name": "stdout",
     "output_type": "stream",
     "text": [
      "113\n",
      "12.322791712104689\n",
      "      Id                                              Title  \\\n",
      "0      0  Star Wars: Episode VII - The Force Awakens (2015)   \n",
      "1      1                           Avengers: Endgame (2019)   \n",
      "2      2                                      Avatar (2009)   \n",
      "3      3                               Black Panther (2018)   \n",
      "4      4                      Avengers: Infinity War (2018)   \n",
      "..   ...                                                ...   \n",
      "913  913                                The Notebook (2004)   \n",
      "914  914                   Jimmy Neutron: Boy Genius (2001)   \n",
      "915  915                               Eat Pray Love (2010)   \n",
      "916  916                 The Texas Chainsaw Massacre (2003)   \n",
      "917  917                                   Zookeeper (2011)   \n",
      "\n",
      "                                            Movie Info  \\\n",
      "0    As a new threat to the galaxy rises, Rey, a de...   \n",
      "1    After the devastating events of Avengers: Infi...   \n",
      "2    A paraplegic Marine dispatched to the moon Pan...   \n",
      "3    T'Challa, heir to the hidden but advanced king...   \n",
      "4    The Avengers and their allies must be willing ...   \n",
      "..                                                 ...   \n",
      "913  A poor yet passionate young man falls in love ...   \n",
      "914  An eight-year-old boy genius and his friends m...   \n",
      "915  A married woman realizes how unhappy her marri...   \n",
      "916  After picking up a traumatized young hitchhike...   \n",
      "917  A group of zoo animals decide to break their c...   \n",
      "\n",
      "                             Distributor       Release Date  \\\n",
      "0    Walt Disney Studios Motion Pictures  December 16, 2015   \n",
      "1    Walt Disney Studios Motion Pictures     April 24, 2019   \n",
      "2                  Twentieth Century Fox  December 16, 2009   \n",
      "3    Walt Disney Studios Motion Pictures                NaN   \n",
      "4    Walt Disney Studios Motion Pictures                NaN   \n",
      "..                                   ...                ...   \n",
      "913                      New Line Cinema      June 25, 2004   \n",
      "914                   Paramount Pictures  December 21, 2001   \n",
      "915    Sony Pictures Entertainment (SPE)    August 13, 2010   \n",
      "916                      New Line Cinema   October 17, 2003   \n",
      "917    Sony Pictures Entertainment (SPE)       July 6, 2011   \n",
      "\n",
      "     Domestic Sales (in $)  International Sales (in $)  World Sales (in $)  \\\n",
      "0                936662225                  1132859475          2069521700   \n",
      "1                858373000                  1939128328          2797501328   \n",
      "2                760507625                  2086738578          2847246203   \n",
      "3                700426566                   647171407          1347597973   \n",
      "4                678815482                  1369544272          2048359754   \n",
      "..                     ...                         ...                 ...   \n",
      "913               81001787                    36813370           117815157   \n",
      "914               80936232                    22056304           102992536   \n",
      "915               80574010                   124020006           204594016   \n",
      "916               80571655                    26792250           107363905   \n",
      "917               80360843                    89491916           169852759   \n",
      "\n",
      "                                                 Genre Movie Runtime License  \n",
      "0                    ['Action', 'Adventure', 'Sci-Fi']   2 hr 18 min   PG-13  \n",
      "1           ['Action', 'Adventure', 'Drama', 'Sci-Fi']    3 hr 1 min   PG-13  \n",
      "2         ['Action', 'Adventure', 'Fantasy', 'Sci-Fi']   2 hr 42 min   PG-13  \n",
      "3                    ['Action', 'Adventure', 'Sci-Fi']   2 hr 14 min     NaN  \n",
      "4                    ['Action', 'Adventure', 'Sci-Fi']   2 hr 29 min     NaN  \n",
      "..                                                 ...           ...     ...  \n",
      "913                               ['Drama', 'Romance']    2 hr 3 min   PG-13  \n",
      "914  ['Action', 'Adventure', 'Animation', 'Comedy',...   1 hr 22 min     NaN  \n",
      "915                  ['Biography', 'Drama', 'Romance']   2 hr 13 min   PG-13  \n",
      "916                                ['Crime', 'Horror']   1 hr 38 min       R  \n",
      "917         ['Comedy', 'Family', 'Fantasy', 'Romance']   1 hr 42 min      PG  \n",
      "\n",
      "[918 rows x 11 columns]\n"
     ]
    }
   ],
   "source": [
    "#3. Get the percentage of PG rated movies between 2001 and 2015\n",
    "import re\n",
    "data = pd.read_csv(\"Highest Holywood Grossing Movies.csv\")\n",
    "\n",
    "\n",
    "def title_splitter(year1, year2):\n",
    "    df = data['Title'].where(data['License']=='PG')\n",
    "    clearnedList = [x for x in df if str(x) != 'nan']\n",
    "    counter = 0\n",
    "    for value in clearnedList:\n",
    "        tmp1 = value.split('(')\n",
    "        newtmp = [x[:-1] for x in tmp1]\n",
    "        only_years = newtmp[-1]\n",
    "        #print(only_years)\n",
    "        tmp = only_years.split('\\n')\n",
    "        #print(tmp)\n",
    "        new_list = ([])\n",
    "        \n",
    "        for x in range(len(tmp)):\n",
    "            new_list.append(int(tmp[x])) \n",
    "            \n",
    "        \n",
    "        \n",
    "        for x in range(len(new_list)):    \n",
    "            if year1 <= new_list[x] <= year2:\n",
    "                counter += 1\n",
    "                #print(new_list[x])\n",
    "            else:\n",
    "                pass\n",
    "            #print(tmp[x])\n",
    "        \n",
    "        \n",
    "    print(counter)\n",
    "    percent = (counter/917)*100\n",
    "    print(percent)\n",
    "    print (data)\n",
    "            \n",
    "        \n",
    "            \n",
    "        #print(f\"Index : {index}, Value : {value}\")\n",
    "\n",
    "\n",
    "title_splitter(2001, 2015)\n",
    "#converter(\"December 16, 2015\")\n",
    "#def pg_procent(year):\n",
    "    \n",
    "#pg_procent = data['License'].where(data['Release Date']== converter(\"2015\"))\n",
    "                                   \n",
    "#print(pg_procent)"
   ]
  },
  {
   "cell_type": "code",
   "execution_count": 11,
   "metadata": {},
   "outputs": [
    {
     "ename": "ValueError",
     "evalue": "'c' argument has 2 elements, which is inconsistent with 'x' and 'y' with size 150.",
     "output_type": "error",
     "traceback": [
      "\u001b[0;31m---------------------------------------------------------------------------\u001b[0m",
      "\u001b[0;31mValueError\u001b[0m                                Traceback (most recent call last)",
      "\u001b[0;32m<ipython-input-11-5de9d6831df7>\u001b[0m in \u001b[0;36m<module>\u001b[0;34m\u001b[0m\n\u001b[1;32m     12\u001b[0m     \u001b[0mcolor\u001b[0m \u001b[0;34m=\u001b[0m \u001b[0;34m[\u001b[0m\u001b[0;34m'blue'\u001b[0m\u001b[0;34m,\u001b[0m\u001b[0;34m'red'\u001b[0m\u001b[0;34m]\u001b[0m\u001b[0;34m\u001b[0m\u001b[0;34m\u001b[0m\u001b[0m\n\u001b[1;32m     13\u001b[0m     ax.scatter(x, y, c=color, label=colors,\n\u001b[0;32m---> 14\u001b[0;31m                alpha=0.3, edgecolors='none')\n\u001b[0m\u001b[1;32m     15\u001b[0m \u001b[0;34m\u001b[0m\u001b[0m\n\u001b[1;32m     16\u001b[0m \u001b[0max\u001b[0m\u001b[0;34m.\u001b[0m\u001b[0mlegend\u001b[0m\u001b[0;34m(\u001b[0m\u001b[0;34m)\u001b[0m\u001b[0;34m\u001b[0m\u001b[0;34m\u001b[0m\u001b[0m\n",
      "\u001b[0;32m/opt/conda/lib/python3.7/site-packages/matplotlib/__init__.py\u001b[0m in \u001b[0;36minner\u001b[0;34m(ax, data, *args, **kwargs)\u001b[0m\n\u001b[1;32m   1563\u001b[0m     \u001b[0;32mdef\u001b[0m \u001b[0minner\u001b[0m\u001b[0;34m(\u001b[0m\u001b[0max\u001b[0m\u001b[0;34m,\u001b[0m \u001b[0;34m*\u001b[0m\u001b[0margs\u001b[0m\u001b[0;34m,\u001b[0m \u001b[0mdata\u001b[0m\u001b[0;34m=\u001b[0m\u001b[0;32mNone\u001b[0m\u001b[0;34m,\u001b[0m \u001b[0;34m**\u001b[0m\u001b[0mkwargs\u001b[0m\u001b[0;34m)\u001b[0m\u001b[0;34m:\u001b[0m\u001b[0;34m\u001b[0m\u001b[0;34m\u001b[0m\u001b[0m\n\u001b[1;32m   1564\u001b[0m         \u001b[0;32mif\u001b[0m \u001b[0mdata\u001b[0m \u001b[0;32mis\u001b[0m \u001b[0;32mNone\u001b[0m\u001b[0;34m:\u001b[0m\u001b[0;34m\u001b[0m\u001b[0;34m\u001b[0m\u001b[0m\n\u001b[0;32m-> 1565\u001b[0;31m             \u001b[0;32mreturn\u001b[0m \u001b[0mfunc\u001b[0m\u001b[0;34m(\u001b[0m\u001b[0max\u001b[0m\u001b[0;34m,\u001b[0m \u001b[0;34m*\u001b[0m\u001b[0mmap\u001b[0m\u001b[0;34m(\u001b[0m\u001b[0msanitize_sequence\u001b[0m\u001b[0;34m,\u001b[0m \u001b[0margs\u001b[0m\u001b[0;34m)\u001b[0m\u001b[0;34m,\u001b[0m \u001b[0;34m**\u001b[0m\u001b[0mkwargs\u001b[0m\u001b[0;34m)\u001b[0m\u001b[0;34m\u001b[0m\u001b[0;34m\u001b[0m\u001b[0m\n\u001b[0m\u001b[1;32m   1566\u001b[0m \u001b[0;34m\u001b[0m\u001b[0m\n\u001b[1;32m   1567\u001b[0m         \u001b[0mbound\u001b[0m \u001b[0;34m=\u001b[0m \u001b[0mnew_sig\u001b[0m\u001b[0;34m.\u001b[0m\u001b[0mbind\u001b[0m\u001b[0;34m(\u001b[0m\u001b[0max\u001b[0m\u001b[0;34m,\u001b[0m \u001b[0;34m*\u001b[0m\u001b[0margs\u001b[0m\u001b[0;34m,\u001b[0m \u001b[0;34m**\u001b[0m\u001b[0mkwargs\u001b[0m\u001b[0;34m)\u001b[0m\u001b[0;34m\u001b[0m\u001b[0;34m\u001b[0m\u001b[0m\n",
      "\u001b[0;32m/opt/conda/lib/python3.7/site-packages/matplotlib/cbook/deprecation.py\u001b[0m in \u001b[0;36mwrapper\u001b[0;34m(*args, **kwargs)\u001b[0m\n\u001b[1;32m    356\u001b[0m                 \u001b[0;34mf\"%(removal)s.  If any parameter follows {name!r}, they \"\u001b[0m\u001b[0;34m\u001b[0m\u001b[0;34m\u001b[0m\u001b[0m\n\u001b[1;32m    357\u001b[0m                 f\"should be pass as keyword, not positionally.\")\n\u001b[0;32m--> 358\u001b[0;31m         \u001b[0;32mreturn\u001b[0m \u001b[0mfunc\u001b[0m\u001b[0;34m(\u001b[0m\u001b[0;34m*\u001b[0m\u001b[0margs\u001b[0m\u001b[0;34m,\u001b[0m \u001b[0;34m**\u001b[0m\u001b[0mkwargs\u001b[0m\u001b[0;34m)\u001b[0m\u001b[0;34m\u001b[0m\u001b[0;34m\u001b[0m\u001b[0m\n\u001b[0m\u001b[1;32m    359\u001b[0m \u001b[0;34m\u001b[0m\u001b[0m\n\u001b[1;32m    360\u001b[0m     \u001b[0;32mreturn\u001b[0m \u001b[0mwrapper\u001b[0m\u001b[0;34m\u001b[0m\u001b[0;34m\u001b[0m\u001b[0m\n",
      "\u001b[0;32m/opt/conda/lib/python3.7/site-packages/matplotlib/axes/_axes.py\u001b[0m in \u001b[0;36mscatter\u001b[0;34m(self, x, y, s, c, marker, cmap, norm, vmin, vmax, alpha, linewidths, verts, edgecolors, plotnonfinite, **kwargs)\u001b[0m\n\u001b[1;32m   4390\u001b[0m             self._parse_scatter_color_args(\n\u001b[1;32m   4391\u001b[0m                 \u001b[0mc\u001b[0m\u001b[0;34m,\u001b[0m \u001b[0medgecolors\u001b[0m\u001b[0;34m,\u001b[0m \u001b[0mkwargs\u001b[0m\u001b[0;34m,\u001b[0m \u001b[0mx\u001b[0m\u001b[0;34m.\u001b[0m\u001b[0msize\u001b[0m\u001b[0;34m,\u001b[0m\u001b[0;34m\u001b[0m\u001b[0;34m\u001b[0m\u001b[0m\n\u001b[0;32m-> 4392\u001b[0;31m                 get_next_color_func=self._get_patches_for_fill.get_next_color)\n\u001b[0m\u001b[1;32m   4393\u001b[0m \u001b[0;34m\u001b[0m\u001b[0m\n\u001b[1;32m   4394\u001b[0m         \u001b[0;32mif\u001b[0m \u001b[0mplotnonfinite\u001b[0m \u001b[0;32mand\u001b[0m \u001b[0mcolors\u001b[0m \u001b[0;32mis\u001b[0m \u001b[0;32mNone\u001b[0m\u001b[0;34m:\u001b[0m\u001b[0;34m\u001b[0m\u001b[0;34m\u001b[0m\u001b[0m\n",
      "\u001b[0;32m/opt/conda/lib/python3.7/site-packages/matplotlib/axes/_axes.py\u001b[0m in \u001b[0;36m_parse_scatter_color_args\u001b[0;34m(c, edgecolors, kwargs, xsize, get_next_color_func)\u001b[0m\n\u001b[1;32m   4242\u001b[0m                     \u001b[0;31m# NB: remember that a single color is also acceptable.\u001b[0m\u001b[0;34m\u001b[0m\u001b[0;34m\u001b[0m\u001b[0;34m\u001b[0m\u001b[0m\n\u001b[1;32m   4243\u001b[0m                     \u001b[0;31m# Besides *colors* will be an empty array if c == 'none'.\u001b[0m\u001b[0;34m\u001b[0m\u001b[0;34m\u001b[0m\u001b[0;34m\u001b[0m\u001b[0m\n\u001b[0;32m-> 4244\u001b[0;31m                     \u001b[0;32mraise\u001b[0m \u001b[0minvalid_shape_exception\u001b[0m\u001b[0;34m(\u001b[0m\u001b[0mlen\u001b[0m\u001b[0;34m(\u001b[0m\u001b[0mcolors\u001b[0m\u001b[0;34m)\u001b[0m\u001b[0;34m,\u001b[0m \u001b[0mxsize\u001b[0m\u001b[0;34m)\u001b[0m\u001b[0;34m\u001b[0m\u001b[0;34m\u001b[0m\u001b[0m\n\u001b[0m\u001b[1;32m   4245\u001b[0m         \u001b[0;32melse\u001b[0m\u001b[0;34m:\u001b[0m\u001b[0;34m\u001b[0m\u001b[0;34m\u001b[0m\u001b[0m\n\u001b[1;32m   4246\u001b[0m             \u001b[0mcolors\u001b[0m \u001b[0;34m=\u001b[0m \u001b[0;32mNone\u001b[0m  \u001b[0;31m# use cmap, norm after collection is created\u001b[0m\u001b[0;34m\u001b[0m\u001b[0;34m\u001b[0m\u001b[0m\n",
      "\u001b[0;31mValueError\u001b[0m: 'c' argument has 2 elements, which is inconsistent with 'x' and 'y' with size 150."
     ]
    },
    {
     "data": {
      "image/png": "[encoded data removed]",
      "text/plain": [
       "<Figure size 432x288 with 1 Axes>"
      ]
     },
     "metadata": {
      "needs_background": "light"
     },
     "output_type": "display_data"
    }
   ],
   "source": [
    "import matplotlib.pyplot as plt\n",
    "import pandas as pd\n",
    "iris = pd.read_csv('iris_data.csv')\n",
    "df = iris[['Sepal length','Sepal width','Species']]\n",
    "unique_labels = df['Species'].unique()\n",
    "\n",
    "fig, ax = plt.subplots()\n",
    "for flower in df:\n",
    "    x = df['Sepal length']\n",
    "    y = df['Sepal width']\n",
    "    colors = unique_labels\n",
    "    color = ['blue','red']\n",
    "    ax.scatter(x, y, label=colors,\n",
    "               alpha=0.3, edgecolors='none')\n",
    "\n",
    "ax.legend()\n",
    "ax.grid(True)\n",
    "\n",
    "plt.show()\n",
    "#print(unique)\n",
    "#print(df)"
   ]
  }
 ],
 "metadata": {
  "kernelspec": {
   "display_name": "Python 3",
   "language": "python",
   "name": "python3"
  },
  "language_info": {
   "codemirror_mode": {
    "name": "ipython",
    "version": 3
   },
   "file_extension": ".py",
   "mimetype": "text/x-python",
   "name": "python",
   "nbconvert_exporter": "python",
   "pygments_lexer": "ipython3",
   "version": "3.7.6"
  }
 },
 "nbformat": 4,
 "nbformat_minor": 4
}
